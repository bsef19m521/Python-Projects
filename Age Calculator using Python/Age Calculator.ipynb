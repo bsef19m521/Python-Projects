{
 "cells": [
  {
   "cell_type": "markdown",
   "id": "443747c3",
   "metadata": {},
   "source": [
    "# Age Calculator using Python"
   ]
  },
  {
   "cell_type": "markdown",
   "id": "3a61c657",
   "metadata": {},
   "source": [
    "### Project Description:\n",
    "This project is for begineers. It will gives an idea of how to use function and datetime built-in module of Python. In this application, user enters his/her date of birth and application will calculate his/her age in years,months and days."
   ]
  },
  {
   "cell_type": "markdown",
   "id": "227186b8",
   "metadata": {},
   "source": [
    "### Workflow of Project:\n",
    "- Firstly, create a function which takes date of birth as a parameters.\n",
    "- Find, current date using datetime module\n",
    "- Then, subtract date of birth from current date.\n",
    "- Finally return your result to your user."
   ]
  },
  {
   "cell_type": "code",
   "execution_count": 89,
   "id": "1861a828",
   "metadata": {},
   "outputs": [
    {
     "name": "stdout",
     "output_type": "stream",
     "text": [
      "Please enter your age in year-month-day format by comma separate : 2001,01,20\n",
      "Your total age is : 21 Years, 3 months, 20 days.\n"
     ]
    }
   ],
   "source": [
    "#The Python datetime module offers functions and classes for working \n",
    "#with date and time parsing, formatting, and arithmetic.\n",
    "import datetime\n",
    "# This function takes user age as a parameter\n",
    "def AgeCalculator(year, month, day):\n",
    "    currentdate = datetime.datetime.now().date()\n",
    "    dateOfBirth = datetime.date(year,month,day)\n",
    "    \n",
    "#     Age = int(((currentdate-dateOfBirth).days)/365.25)\n",
    "    Age = (currentdate-dateOfBirth).days\n",
    "    y = Age//365\n",
    "    m = (Age%365)//30\n",
    "    d = Age%30\n",
    "    print(f\"Your total age is : {y} Years, {m} months, {d} days.\")\n",
    "    \n",
    "year, month, day = input(\"Please enter your age in year-month-day format by comma separate : \").split(\",\")\n",
    "year, month, day = int(year),int(month),int(day)\n",
    "AgeCalculator(year,month,day)"
   ]
  },
  {
   "cell_type": "code",
   "execution_count": null,
   "id": "ae563829",
   "metadata": {},
   "outputs": [],
   "source": []
  },
  {
   "cell_type": "code",
   "execution_count": null,
   "id": "84b0779d",
   "metadata": {},
   "outputs": [],
   "source": []
  }
 ],
 "metadata": {
  "kernelspec": {
   "display_name": "Python 3",
   "language": "python",
   "name": "python3"
  },
  "language_info": {
   "codemirror_mode": {
    "name": "ipython",
    "version": 3
   },
   "file_extension": ".py",
   "mimetype": "text/x-python",
   "name": "python",
   "nbconvert_exporter": "python",
   "pygments_lexer": "ipython3",
   "version": "3.8.7"
  }
 },
 "nbformat": 4,
 "nbformat_minor": 5
}
